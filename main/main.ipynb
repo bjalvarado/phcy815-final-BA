{
 "cells": [
  {
   "cell_type": "code",
   "execution_count": 696,
   "metadata": {},
   "outputs": [
    {
     "name": "stdout",
     "output_type": "stream",
     "text": [
      "<class 'pandas.core.frame.DataFrame'>\n",
      "RangeIndex: 4812 entries, 0 to 4811\n",
      "Data columns (total 28 columns):\n",
      " #   Column                                                         Non-Null Count  Dtype \n",
      "---  ------                                                         --------------  ----- \n",
      " 0   Provider ID                                                    4812 non-null   int64 \n",
      " 1   Hospital Name                                                  4812 non-null   object\n",
      " 2   Address                                                        4812 non-null   object\n",
      " 3   City                                                           4812 non-null   object\n",
      " 4   State                                                          4812 non-null   object\n",
      " 5   ZIP Code                                                       4812 non-null   int64 \n",
      " 6   County Name                                                    4797 non-null   object\n",
      " 7   Phone Number                                                   4812 non-null   int64 \n",
      " 8   Hospital Type                                                  4812 non-null   object\n",
      " 9   Hospital Ownership                                             4812 non-null   object\n",
      " 10  Emergency Services                                             4812 non-null   object\n",
      " 11  Meets criteria for meaningful use of EHRs                      4669 non-null   object\n",
      " 12  Hospital overall rating                                        4812 non-null   object\n",
      " 13  Hospital overall rating footnote                               1398 non-null   object\n",
      " 14  Mortality national comparison                                  4812 non-null   object\n",
      " 15  Mortality national comparison footnote                         1352 non-null   object\n",
      " 16  Safety of care national comparison                             4812 non-null   object\n",
      " 17  Safety of care national comparison footnote                    2168 non-null   object\n",
      " 18  Readmission national comparison                                4812 non-null   object\n",
      " 19  Readmission national comparison footnote                       1017 non-null   object\n",
      " 20  Patient experience national comparison                         4812 non-null   object\n",
      " 21  Patient experience national comparison footnote                1369 non-null   object\n",
      " 22  Effectiveness of care national comparison                      4812 non-null   object\n",
      " 23  Effectiveness of care national comparison footnote             1202 non-null   object\n",
      " 24  Timeliness of care national comparison                         4812 non-null   object\n",
      " 25  Timeliness of care national comparison footnote                1266 non-null   object\n",
      " 26  Efficient use of medical imaging national comparison           4812 non-null   object\n",
      " 27  Efficient use of medical imaging national comparison footnote  2033 non-null   object\n",
      "dtypes: int64(3), object(25)\n",
      "memory usage: 1.0+ MB\n",
      "None\n"
     ]
    }
   ],
   "source": [
    "# Import the main data set\n",
    "import pandas as pd\n",
    "\n",
    "df1 = pd.read_csv(\"../Data/Hospital General Information.csv\", encoding=\"ISO-8859-1\")\n",
    "\n",
    "# print(df1.head())\n",
    "\n",
    "print(df1.info())"
   ]
  },
  {
   "cell_type": "code",
   "execution_count": 697,
   "metadata": {},
   "outputs": [
    {
     "name": "stdout",
     "output_type": "stream",
     "text": [
      "<class 'pandas.core.frame.DataFrame'>\n",
      "RangeIndex: 81804 entries, 0 to 81803\n",
      "Data columns (total 18 columns):\n",
      " #   Column                Non-Null Count  Dtype \n",
      "---  ------                --------------  ----- \n",
      " 0   Provider ID           81804 non-null  int64 \n",
      " 1   Hospital Name         81804 non-null  object\n",
      " 2   Address               81804 non-null  object\n",
      " 3   City                  81804 non-null  object\n",
      " 4   State                 81804 non-null  object\n",
      " 5   ZIP Code              81804 non-null  int64 \n",
      " 6   County Name           81549 non-null  object\n",
      " 7   Phone Number          81804 non-null  int64 \n",
      " 8   Measure Name          81804 non-null  object\n",
      " 9   Measure ID            81804 non-null  object\n",
      " 10  Compared to National  81804 non-null  object\n",
      " 11  Denominator           81804 non-null  object\n",
      " 12  Score                 81804 non-null  object\n",
      " 13  Lower Estimate        81804 non-null  object\n",
      " 14  Higher Estimate       81804 non-null  object\n",
      " 15  Footnote              33523 non-null  object\n",
      " 16  Measure Start Date    81804 non-null  object\n",
      " 17  Measure End Date      81804 non-null  object\n",
      "dtypes: int64(3), object(15)\n",
      "memory usage: 11.2+ MB\n",
      "None\n"
     ]
    }
   ],
   "source": [
    "# Import the alternative data set\n",
    "\n",
    "df2 = pd.read_csv(\"../Data/Complications and Deaths - Hospital.csv\")\n",
    "\n",
    "#print(df2.head())\n",
    "\n",
    "print(df2.info())"
   ]
  },
  {
   "cell_type": "code",
   "execution_count": 698,
   "metadata": {},
   "outputs": [
    {
     "name": "stdout",
     "output_type": "stream",
     "text": [
      "Index(['Provider ID', 'State', 'Hospital Type', 'Hospital Ownership',\n",
      "       'Emergency Services', 'Meets criteria for meaningful use of EHRs',\n",
      "       'Hospital overall rating'],\n",
      "      dtype='object')\n",
      "Index(['Provider ID', 'State', 'Measure ID', 'Compared to National', 'Score'], dtype='object')\n"
     ]
    }
   ],
   "source": [
    "# I want to clean up the two sets and remove columns that are not going\n",
    "# to be useful for this project first\n",
    "\n",
    "cols_to_keep_1 = [\n",
    "    'Provider ID',\n",
    "    'State',\n",
    "    'Hospital Type',\n",
    "    'Hospital Ownership',\n",
    "    'Emergency Services',\n",
    "    'Meets criteria for meaningful use of EHRs',\n",
    "    'Hospital overall rating',\n",
    "]\n",
    "\n",
    "cols_to_keep_2 = [\n",
    "    'Provider ID',\n",
    "    'State',\n",
    "    'Measure ID',\n",
    "    'Compared to National',\n",
    "    'Score',\n",
    "]\n",
    "\n",
    "clean_df1 = df1[cols_to_keep_1]\n",
    "clean_df2 = df2[cols_to_keep_2]\n",
    "\n",
    "print(clean_df1.columns)\n",
    "print(clean_df2.columns)"
   ]
  },
  {
   "cell_type": "code",
   "execution_count": 699,
   "metadata": {},
   "outputs": [
    {
     "name": "stdout",
     "output_type": "stream",
     "text": [
      "<class 'pandas.core.frame.DataFrame'>\n",
      "RangeIndex: 81804 entries, 0 to 81803\n",
      "Data columns (total 10 columns):\n",
      " #   Column                                     Non-Null Count  Dtype \n",
      "---  ------                                     --------------  ----- \n",
      " 0   Provider ID                                81804 non-null  int64 \n",
      " 1   State                                      81804 non-null  object\n",
      " 2   Hospital Type                              81804 non-null  object\n",
      " 3   Hospital Ownership                         81804 non-null  object\n",
      " 4   Emergency Services                         81804 non-null  object\n",
      " 5   Meets criteria for meaningful use of EHRs  79373 non-null  object\n",
      " 6   Hospital overall rating                    81804 non-null  object\n",
      " 7   Measure ID                                 81804 non-null  object\n",
      " 8   Compared to National                       81804 non-null  object\n",
      " 9   Score                                      81804 non-null  object\n",
      "dtypes: int64(1), object(9)\n",
      "memory usage: 6.2+ MB\n",
      "None\n"
     ]
    }
   ],
   "source": [
    "# Combine the two data frames into one\n",
    "\n",
    "df_main = pd.merge(clean_df1, clean_df2, on=['Provider ID', 'State'], how='outer')\n",
    "\n",
    "# print(df_main.head())\n",
    "print(df_main.info())"
   ]
  },
  {
   "cell_type": "code",
   "execution_count": 700,
   "metadata": {},
   "outputs": [
    {
     "name": "stdout",
     "output_type": "stream",
     "text": [
      "<class 'pandas.core.frame.DataFrame'>\n",
      "RangeIndex: 81804 entries, 0 to 81803\n",
      "Data columns (total 10 columns):\n",
      " #   Column                                     Non-Null Count  Dtype \n",
      "---  ------                                     --------------  ----- \n",
      " 0   Provider ID                                81804 non-null  int64 \n",
      " 1   State                                      81804 non-null  object\n",
      " 2   Hospital Type                              81804 non-null  object\n",
      " 3   Hospital Ownership                         81804 non-null  object\n",
      " 4   Emergency Services                         81804 non-null  object\n",
      " 5   Meets criteria for meaningful use of EHRs  79373 non-null  object\n",
      " 6   Hospital overall rating                    81804 non-null  object\n",
      " 7   Measure ID                                 81804 non-null  object\n",
      " 8   Compared to National                       81804 non-null  object\n",
      " 9   Score                                      81804 non-null  object\n",
      "dtypes: int64(1), object(9)\n",
      "memory usage: 6.2+ MB\n",
      "None\n"
     ]
    }
   ],
   "source": [
    "# Pull out the measure IDs that are HF mort,\n",
    "# since this is what I want to study for this --> NOTE: this did not work lol, i will have to go back to doing the entire thing\n",
    "\n",
    "hf_df = df_main\n",
    "\n",
    "print(hf_df.info())"
   ]
  },
  {
   "cell_type": "code",
   "execution_count": 701,
   "metadata": {},
   "outputs": [
    {
     "name": "stdout",
     "output_type": "stream",
     "text": [
      "<class 'pandas.core.frame.DataFrame'>\n",
      "RangeIndex: 81804 entries, 0 to 81803\n",
      "Data columns (total 10 columns):\n",
      " #   Column                                     Non-Null Count  Dtype \n",
      "---  ------                                     --------------  ----- \n",
      " 0   Provider ID                                81804 non-null  int64 \n",
      " 1   State                                      81804 non-null  int64 \n",
      " 2   Hospital Type                              81804 non-null  object\n",
      " 3   Hospital Ownership                         81804 non-null  object\n",
      " 4   Emergency Services                         81804 non-null  object\n",
      " 5   Meets criteria for meaningful use of EHRs  79373 non-null  object\n",
      " 6   Hospital overall rating                    81804 non-null  object\n",
      " 7   Measure ID                                 81804 non-null  object\n",
      " 8   Compared to National                       81804 non-null  object\n",
      " 9   Score                                      81804 non-null  object\n",
      "dtypes: int64(2), object(8)\n",
      "memory usage: 6.2+ MB\n",
      "None\n"
     ]
    }
   ],
   "source": [
    "# import the encoder for states\n",
    "\n",
    "from sklearn.preprocessing import LabelEncoder\n",
    "\n",
    "le = LabelEncoder()\n",
    "\n",
    "hf_df = hf_df.copy() # Creating a copy to avoid warnings\n",
    "hf_df['State'] = le.fit_transform(hf_df['State'])\n",
    "\n",
    "print(hf_df.info())"
   ]
  },
  {
   "cell_type": "code",
   "execution_count": 702,
   "metadata": {},
   "outputs": [
    {
     "name": "stdout",
     "output_type": "stream",
     "text": [
      "10\n",
      "2\n",
      "2\n",
      "6\n",
      "5\n",
      "3218\n"
     ]
    }
   ],
   "source": [
    "# Encode other string values, finding how many\n",
    "# uniques are in each column first for encoding\n",
    "# method choice\n",
    "\n",
    "print(hf_df['Hospital Ownership'].nunique()) # 10 unique --> LabelEncoder\n",
    "print(hf_df['Emergency Services'].nunique()) # 2 unique --> LabelEncoder\n",
    "print(hf_df['Meets criteria for meaningful use of EHRs'].nunique()) # 2 unique --> LabelEncoder\n",
    "print(hf_df['Hospital overall rating'].nunique()) # 6 unique, already integers, just need to be converted\n",
    "# Don't need to worry about Measure ID, the model won't need to look at this\n",
    "print(hf_df['Compared to National'].nunique()) # 5 unique --> LabelEncoder\n",
    "print(hf_df['Score'].nunique()) # 108, these should also be numbers\n"
   ]
  },
  {
   "cell_type": "code",
   "execution_count": 703,
   "metadata": {},
   "outputs": [
    {
     "name": "stdout",
     "output_type": "stream",
     "text": [
      "['4.2' '13.4' '3.5' ... '126.16' '139.00' '132.82']\n"
     ]
    }
   ],
   "source": [
    "# In the block below I try to convert these to floats\n",
    "# and it does not work, so doing this as diagnostic\n",
    "\n",
    "print(hf_df['Score'].unique())"
   ]
  },
  {
   "cell_type": "code",
   "execution_count": 704,
   "metadata": {},
   "outputs": [
    {
     "name": "stdout",
     "output_type": "stream",
     "text": [
      "0     4.2\n",
      "1    13.4\n",
      "2     3.5\n",
      "3     9.7\n",
      "4    11.4\n",
      "Name: Score, dtype: float64\n"
     ]
    }
   ],
   "source": [
    "# Change Score to float, not sure why they also did\n",
    "# NaN's as 'Not Available' so I will fix that\n",
    "\n",
    "hf_df['Score'].replace('Not Available', pd.NA)\n",
    "hf_df['Score'] = pd.to_numeric(hf_df['Score'], errors='coerce')\n",
    "\n",
    "print(hf_df['Score'].head())"
   ]
  },
  {
   "cell_type": "code",
   "execution_count": 705,
   "metadata": {},
   "outputs": [
    {
     "name": "stdout",
     "output_type": "stream",
     "text": [
      "['3' '2' 'Not Available' '4' '5' '1']\n"
     ]
    }
   ],
   "source": [
    "print(hf_df['Hospital overall rating'].unique())"
   ]
  },
  {
   "cell_type": "code",
   "execution_count": 706,
   "metadata": {},
   "outputs": [
    {
     "name": "stdout",
     "output_type": "stream",
     "text": [
      "<class 'pandas.core.frame.DataFrame'>\n",
      "Index: 60639 entries, 0 to 81565\n",
      "Data columns (total 10 columns):\n",
      " #   Column                                     Non-Null Count  Dtype  \n",
      "---  ------                                     --------------  -----  \n",
      " 0   Provider ID                                60639 non-null  int64  \n",
      " 1   State                                      60639 non-null  int64  \n",
      " 2   Hospital Type                              60639 non-null  object \n",
      " 3   Hospital Ownership                         60639 non-null  object \n",
      " 4   Emergency Services                         60639 non-null  object \n",
      " 5   Meets criteria for meaningful use of EHRs  60282 non-null  object \n",
      " 6   Hospital overall rating                    60639 non-null  int64  \n",
      " 7   Measure ID                                 60639 non-null  object \n",
      " 8   Compared to National                       60639 non-null  object \n",
      " 9   Score                                      45684 non-null  float64\n",
      "dtypes: float64(1), int64(3), object(6)\n",
      "memory usage: 5.1+ MB\n",
      "0    3\n",
      "1    3\n",
      "2    3\n",
      "3    3\n",
      "4    3\n",
      "Name: Hospital overall rating, dtype: int64\n"
     ]
    }
   ],
   "source": [
    "# Same for 'Hospital overall rating'\n",
    "# Replace 'Not Available' with pd.NA\n",
    "hf_df['Hospital overall rating'] = hf_df['Hospital overall rating'].replace('Not Available', pd.NA)\n",
    "\n",
    "# Drop rows with NaN values\n",
    "hf_df = hf_df.dropna(subset=['Hospital overall rating'], axis=0)\n",
    "\n",
    "# Ensure all values are numeric (convert to integer)\n",
    "hf_df['Hospital overall rating'] = pd.to_numeric(hf_df['Hospital overall rating'], errors='coerce')\n",
    "\n",
    "# Now convert to int64\n",
    "hf_df['Hospital overall rating'] = hf_df['Hospital overall rating'].astype('int64')\n",
    "\n",
    "hf_df.info()\n",
    "print(hf_df['Hospital overall rating'].head())"
   ]
  },
  {
   "cell_type": "code",
   "execution_count": 707,
   "metadata": {},
   "outputs": [
    {
     "name": "stdout",
     "output_type": "stream",
     "text": [
      "<class 'pandas.core.frame.DataFrame'>\n",
      "Index: 60639 entries, 0 to 81565\n",
      "Data columns (total 10 columns):\n",
      " #   Column                                     Non-Null Count  Dtype  \n",
      "---  ------                                     --------------  -----  \n",
      " 0   Provider ID                                60639 non-null  int64  \n",
      " 1   State                                      60639 non-null  int64  \n",
      " 2   Hospital Type                              60639 non-null  object \n",
      " 3   Hospital Ownership                         60639 non-null  object \n",
      " 4   Emergency Services                         60639 non-null  object \n",
      " 5   Meets criteria for meaningful use of EHRs  60282 non-null  object \n",
      " 6   Hospital overall rating                    60639 non-null  int64  \n",
      " 7   Measure ID                                 60639 non-null  object \n",
      " 8   Compared to National                       60639 non-null  object \n",
      " 9   Score                                      45684 non-null  float64\n",
      "dtypes: float64(1), int64(3), object(6)\n",
      "memory usage: 5.1+ MB\n",
      "None\n"
     ]
    }
   ],
   "source": [
    "print(hf_df.info())"
   ]
  },
  {
   "cell_type": "code",
   "execution_count": 708,
   "metadata": {},
   "outputs": [
    {
     "name": "stdout",
     "output_type": "stream",
     "text": [
      "<class 'pandas.core.frame.DataFrame'>\n",
      "Index: 60639 entries, 0 to 81565\n",
      "Data columns (total 10 columns):\n",
      " #   Column                                     Non-Null Count  Dtype  \n",
      "---  ------                                     --------------  -----  \n",
      " 0   Provider ID                                60639 non-null  int64  \n",
      " 1   State                                      60639 non-null  int64  \n",
      " 2   Hospital Type                              60639 non-null  int64  \n",
      " 3   Hospital Ownership                         60639 non-null  int64  \n",
      " 4   Emergency Services                         60639 non-null  int64  \n",
      " 5   Meets criteria for meaningful use of EHRs  60639 non-null  int64  \n",
      " 6   Hospital overall rating                    60639 non-null  int64  \n",
      " 7   Measure ID                                 60639 non-null  object \n",
      " 8   Compared to National                       60639 non-null  object \n",
      " 9   Score                                      45684 non-null  float64\n",
      "dtypes: float64(1), int64(7), object(2)\n",
      "memory usage: 5.1+ MB\n",
      "None\n"
     ]
    }
   ],
   "source": [
    "# LabelEncoder columns\n",
    "\n",
    "hf_df['Hospital Type'] = le.fit_transform(hf_df['Hospital Type'])\n",
    "hf_df['Hospital Ownership'] = le.fit_transform(hf_df['Hospital Ownership'])\n",
    "hf_df['Emergency Services'] = le.fit_transform(hf_df['Emergency Services'])\n",
    "hf_df['Meets criteria for meaningful use of EHRs'] = le.fit_transform(hf_df['Meets criteria for meaningful use of EHRs'])\n",
    "\n",
    "print(hf_df.info())"
   ]
  },
  {
   "cell_type": "code",
   "execution_count": 709,
   "metadata": {},
   "outputs": [
    {
     "name": "stdout",
     "output_type": "stream",
     "text": [
      "['Worse than the National Rate' 'No Different than the National Rate'\n",
      " 'Better than the National Rate' 'Not Available'\n",
      " 'Number of Cases Too Small']\n"
     ]
    }
   ],
   "source": [
    "# Print the last remaining string columns (except for measure ID)\n",
    "\n",
    "# print(hf_df['Compared to National'].head())\n",
    "print(hf_df['Compared to National'].unique())"
   ]
  },
  {
   "cell_type": "code",
   "execution_count": 710,
   "metadata": {},
   "outputs": [
    {
     "name": "stdout",
     "output_type": "stream",
     "text": [
      "<class 'pandas.core.frame.DataFrame'>\n",
      "Index: 2371 entries, 0 to 81021\n",
      "Data columns (total 10 columns):\n",
      " #   Column                                     Non-Null Count  Dtype  \n",
      "---  ------                                     --------------  -----  \n",
      " 0   Provider ID                                2371 non-null   int64  \n",
      " 1   State                                      2371 non-null   int64  \n",
      " 2   Hospital Type                              2371 non-null   int64  \n",
      " 3   Hospital Ownership                         2371 non-null   int64  \n",
      " 4   Emergency Services                         2371 non-null   int64  \n",
      " 5   Meets criteria for meaningful use of EHRs  2371 non-null   int64  \n",
      " 6   Hospital overall rating                    2371 non-null   int64  \n",
      " 7   Measure ID                                 2371 non-null   object \n",
      " 8   Compared to National                       2371 non-null   object \n",
      " 9   Score                                      2371 non-null   float64\n",
      "dtypes: float64(1), int64(7), object(2)\n",
      "memory usage: 203.8+ KB\n",
      "None\n",
      "['Worse than the National Rate' 'Better than the National Rate']\n"
     ]
    }
   ],
   "source": [
    "# Need to deal with the 'Compared to National' having more than 3 options\n",
    "# I only want it to have better, worse, and no different than national\n",
    "\n",
    "# Drop rows where 'Compared to National' is 'Number of Cases Too Small'\n",
    "hf_df = hf_df[hf_df['Compared to National'] != 'Number of Cases Too Small']\n",
    "hf_df = hf_df[hf_df['Compared to National'] != 'Not Available']\n",
    "hf_df = hf_df[hf_df['Compared to National'] != 'No Different than the National Rate']\n",
    "\n",
    "print(hf_df.info())\n",
    "print(hf_df['Compared to National'].unique())"
   ]
  },
  {
   "cell_type": "code",
   "execution_count": 711,
   "metadata": {},
   "outputs": [],
   "source": [
    "# Encode compared to national\n",
    "\n",
    "hf_df['Compared to National'] = le.fit_transform(hf_df['Compared to National'])"
   ]
  },
  {
   "cell_type": "code",
   "execution_count": 714,
   "metadata": {},
   "outputs": [
    {
     "name": "stdout",
     "output_type": "stream",
     "text": [
      "Cross-Val Accuracy: 78.90%\n",
      "Accuracy: 0.79\n",
      "AUC Score: 0.89\n",
      "Sensitivity (Recall): 0.87\n"
     ]
    },
    {
     "data": {
      "image/png": "[encoded data removed]",
      "text/plain": [
       "<Figure size 800x600 with 1 Axes>"
      ]
     },
     "metadata": {},
     "output_type": "display_data"
    },
    {
     "name": "stdout",
     "output_type": "stream",
     "text": [
      "Classification Report:\n",
      "              precision    recall  f1-score   support\n",
      "\n",
      "           0       0.80      0.68      0.74       209\n",
      "           1       0.78      0.87      0.82       266\n",
      "\n",
      "    accuracy                           0.79       475\n",
      "   macro avg       0.79      0.78      0.78       475\n",
      "weighted avg       0.79      0.79      0.78       475\n",
      "\n"
     ]
    }
   ],
   "source": [
    "# Ready to begin the model creation\n",
    "import matplotlib.pyplot as plt\n",
    "from sklearn.model_selection import train_test_split, cross_val_score\n",
    "from sklearn.ensemble import RandomForestClassifier\n",
    "from sklearn.metrics import roc_curve, auc, classification_report, accuracy_score, recall_score, roc_auc_score\n",
    "from sklearn.utils import shuffle\n",
    "\n",
    "# y randomization\n",
    "hf_df = shuffle(hf_df, random_state=42)\n",
    "\n",
    "# separate features (X) and target (y)\n",
    "X = hf_df.drop(columns=['Compared to National', 'Measure ID'])\n",
    "y = hf_df['Compared to National']\n",
    "\n",
    "# handle missing values\n",
    "X = X.fillna(X.mode())\n",
    "y = y.fillna(y.mode()[0])\n",
    "\n",
    "# split train and test (80/20)\n",
    "X_train, X_test, y_train, y_test = train_test_split(X, y, test_size=0.2, random_state=42)\n",
    "\n",
    "# RandomForest\n",
    "model = RandomForestClassifier(max_depth=5, random_state=42)\n",
    "\n",
    "# cross validation (5-fold):\n",
    "cv_scores = cross_val_score(model, X_train, y_train, cv=5, scoring='accuracy')\n",
    "print(f'Cross-Val Accuracy: {cv_scores.mean() * 100:.2f}%')\n",
    "\n",
    "# train the model\n",
    "model.fit(X_train, y_train)\n",
    "y_pred = model.predict(X_test)\n",
    "\n",
    "# predict and calculate ROC curve\n",
    "y_pred_prob = model.predict_proba(X_test)[:, 1]\n",
    "\n",
    "# ROC Curve\n",
    "fpr, tpr, thresholds = roc_curve(y_test, y_pred_prob)\n",
    "roc_auc = auc(fpr, tpr)\n",
    "\n",
    "# Accuracy\n",
    "accuracy = accuracy_score(y_test, y_pred)\n",
    "roc_auc = roc_auc_score(y_test, y_pred_prob)\n",
    "\n",
    "print(f\"Accuracy: {accuracy:.2f}\")\n",
    "print(f\"AUC Score: {roc_auc:.2f}\")\n",
    "\n",
    "# Sensitivity (Recall)\n",
    "sensitivity = recall_score(y_test, y_pred)\n",
    "print(f'Sensitivity (Recall): {sensitivity:.2f}')\n",
    "\n",
    "# Plot ROC Curve\n",
    "plt.figure(figsize=(8, 6))\n",
    "plt.plot(fpr, tpr, color='darkorange', lw=2, label=f'ROC curve (AUC = {roc_auc:.2f})')\n",
    "plt.plot([0, 1], [0, 1], color='navy', lw=2, linestyle='--')\n",
    "plt.xlim([0.0, 1.0])\n",
    "plt.ylim([0.0, 1.05])\n",
    "plt.xlabel('False Positive Rate')\n",
    "plt.ylabel('True Positive Rate')\n",
    "plt.title('Receiver Operating Characteristic (ROC) Curve')\n",
    "plt.legend(loc=\"lower right\")\n",
    "plt.show()\n",
    "\n",
    "# Evaluation\n",
    "y_pred = model.predict(X_test)\n",
    "print(\"Classification Report:\")\n",
    "print(classification_report(y_test, y_pred))\n",
    "\n",
    "\n",
    "\n"
   ]
  },
  {
   "cell_type": "code",
   "execution_count": null,
   "metadata": {},
   "outputs": [
    {
     "name": "stdout",
     "output_type": "stream",
     "text": [
      "Accuracy: 0.86\n",
      "Sensitivity (Recall): 0.60\n",
      "AUC Score: 0.94\n",
      "Classification Report:\n",
      "              precision    recall  f1-score   support\n",
      "\n",
      "           0       0.77      0.90      0.83       184\n",
      "           1       0.93      0.83      0.88       291\n",
      "\n",
      "    accuracy                           0.86       475\n",
      "   macro avg       0.85      0.86      0.85       475\n",
      "weighted avg       0.87      0.86      0.86       475\n",
      "\n"
     ]
    },
    {
     "data": {
      "image/png": "[encoded data removed]",
      "text/plain": [
       "<Figure size 800x600 with 1 Axes>"
      ]
     },
     "metadata": {},
     "output_type": "display_data"
    }
   ],
   "source": [
    "# AUC is decent but accuracy can be improved so i want to try with gradient boosting\n",
    "from sklearn.ensemble import GradientBoostingClassifier\n",
    "\n",
    "gb_model = GradientBoostingClassifier(n_estimators=100, learning_rate=0.1, max_depth=5, random_state=42)\n",
    "\n",
    "# model\n",
    "gb_model.fit(X_train, y_train)\n",
    "\n",
    "# predictions\n",
    "y_pred = gb_model.predict(X_test)\n",
    "y_pred_prob = gb_model.predict_proba(X_test)[:, 1]\n",
    "\n",
    "# Evaluation\n",
    "accuracy = accuracy_score(y_test, y_pred)\n",
    "roc_auc = roc_auc_score(y_test, y_pred_prob)\n",
    "\n",
    "\n",
    "print(f\"Accuracy: {accuracy:.2f}\")\n",
    "print(f'Sensitivity (Recall): {sensitivity:.2f}')\n",
    "print(f\"AUC Score: {roc_auc:.2f}\")\n",
    "print(\"Classification Report:\")\n",
    "print(classification_report(y_test, y_pred))\n",
    "\n",
    "# ROC Curve\n",
    "fpr, tpr, _ = roc_curve(y_test, y_pred_prob)\n",
    "\n",
    "plt.figure(figsize=(8, 6))\n",
    "plt.plot(fpr, tpr, color='darkorange', lw=2, label=f'ROC curve (AUC = {roc_auc:.2f})')\n",
    "plt.plot([0, 1], [0, 1], color='navy', lw=2, linestyle='--')\n",
    "plt.xlabel('False Positive Rate')\n",
    "plt.ylabel('True Positive Rate')\n",
    "plt.title('Gradient Boosting ROC Curve')\n",
    "plt.legend(loc=\"lower right\")\n",
    "plt.show()"
   ]
  }
 ],
 "metadata": {
  "kernelspec": {
   "display_name": "base",
   "language": "python",
   "name": "python3"
  },
  "language_info": {
   "codemirror_mode": {
    "name": "ipython",
    "version": 3
   },
   "file_extension": ".py",
   "mimetype": "text/x-python",
   "name": "python",
   "nbconvert_exporter": "python",
   "pygments_lexer": "ipython3",
   "version": "3.12.7"
  }
 },
 "nbformat": 4,
 "nbformat_minor": 2
}
